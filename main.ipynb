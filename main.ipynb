{
 "cells": [
  {
   "cell_type": "markdown",
   "metadata": {},
   "source": [
    "Firstly, we would download and import the needed packages - CV2, Numpy and time"
   ]
  },
  {
   "cell_type": "code",
   "execution_count": null,
   "metadata": {},
   "outputs": [],
   "source": [
    "#%pip install opencv-python\n",
    "#%pip install numpy\n",
    "#time is already available in the Python version\n",
    "\n",
    "import cv2\n",
    "import numpy as np\n",
    "import time"
   ]
  },
  {
   "cell_type": "markdown",
   "metadata": {},
   "source": [
    "We begin Creating"
   ]
  },
  {
   "cell_type": "markdown",
   "metadata": {},
   "source": [
    "        Firstly, we would create the background\n"
   ]
  },
  {
   "cell_type": "code",
   "execution_count": 44,
   "metadata": {},
   "outputs": [],
   "source": [
    "#Firstly, we would create the background, numpy plays a major role here\n",
    "def create_background(cap, num_frames=100):\n",
    "    print('Capturing background. Please move out of frame.')\n",
    "    backgrounds = []\n",
    "    for i in range(num_frames):\n",
    "        ret, frame = cap.read()\n",
    "        if ret:\n",
    "            backgrounds.append(frame)\n",
    "        else:\n",
    "            print(f'Warning: Could not read frame {i+1}/{num_frames}')\n",
    "        time.sleep(0.1)\n",
    "    if backgrounds:\n",
    "        return np.median(backgrounds, axis=0).astype(np.uint8)\n",
    "    else:\n",
    "        raise ValueError('Could not capture any frames for background')"
   ]
  },
  {
   "cell_type": "markdown",
   "metadata": {},
   "source": [
    "    Here we would create the mask and be applying the cloak effect"
   ]
  },
  {
   "cell_type": "code",
   "execution_count": 45,
   "metadata": {},
   "outputs": [],
   "source": [
    "def create_mask(frame, lower_color, upper_color):\n",
    "    hsv = cv2.cvtColor(frame, cv2.COLOR_BGR2HSV)\n",
    "    mask = cv2.inRange(hsv, lower_color, upper_color)\n",
    "    mask = cv2.morphologyEx(mask, cv2.MORPH_OPEN, np.ones((3, 3), np.uint8), iterations=2)\n",
    "    mask = cv2.morphologyEx(mask, cv2.MORPH_DILATE, np.ones((3, 3), np.uint8), iterations=1)\n",
    "    return mask\n",
    "\n",
    "def apply_cloak_effect(frame, mask, background):\n",
    "    mask_inv = cv2.bitwise_not(mask)\n",
    "    fg = cv2.bitwise_and(frame, frame, mask=mask_inv)\n",
    "    fg = cv2.bitwise_and(background, background, mask=mask)\n",
    "    return cv2.add(fg, background)\n"
   ]
  },
  {
   "cell_type": "markdown",
   "metadata": {},
   "source": [
    "The \"main\" function, to put things to effect"
   ]
  },
  {
   "cell_type": "code",
   "execution_count": null,
   "metadata": {},
   "outputs": [],
   "source": [
    "#When this function is called, the first action it would take is to open the camera\n",
    "def main():\n",
    "    print('OpenCV version', cv2.__version__)\n",
    "\n",
    "    cap = cv2.VideoCapture(0)\n",
    "\n",
    "    if not cap.isOpened():\n",
    "        print('Error: Could not open camera.') #At the moment, ensure your phone is not attached to your computer while doing this\n",
    "        return\n",
    "    \n",
    "    try:\n",
    "        background = create_background(cap)\n",
    "    except ValueError as e:\n",
    "        print(f'Error: {e}')\n",
    "        cap.release()\n",
    "        return\n",
    "    \n",
    "    lower_blue = np.array([90, 50, 50])\n",
    "    upper_blue = np.array([130, 255, 255])\n",
    "\n",
    "    print(\"Starting main loop. Press 'q' to quit\")\n",
    "    while True:\n",
    "        ret, frame = cap.read()\n",
    "        if not ret:\n",
    "            print('Error: Could not read frame.')\n",
    "            time.sleep(1)\n",
    "            continue\n",
    "        mask = create_mask(frame, lower_blue, upper_blue)\n",
    "        result = apply_cloak_effect(frame, mask, background)\n",
    "\n",
    "        cv2.imshow('Invisible cloak', result)\n",
    "        \n",
    "        if cv2.waitKey(1) & 0xFF == ord('q'):\n",
    "            break\n",
    "\n",
    "    cap.release()\n",
    "    cv2.destroyAllWindows()\n",
    "\n",
    "if __name__ == '__main__':\n",
    "    main()"
   ]
  }
 ],
 "metadata": {
  "kernelspec": {
   "display_name": "Python 3",
   "language": "python",
   "name": "python3"
  },
  "language_info": {
   "codemirror_mode": {
    "name": "ipython",
    "version": 3
   },
   "file_extension": ".py",
   "mimetype": "text/x-python",
   "name": "python",
   "nbconvert_exporter": "python",
   "pygments_lexer": "ipython3",
   "version": "3.12.3"
  }
 },
 "nbformat": 4,
 "nbformat_minor": 2
}
